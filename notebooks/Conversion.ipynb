{
 "cells": [
  {
   "cell_type": "code",
   "execution_count": 1,
   "id": "f7e13ecc",
   "metadata": {},
   "outputs": [],
   "source": [
    "import json"
   ]
  },
  {
   "cell_type": "code",
   "execution_count": 2,
   "id": "566b3bcb",
   "metadata": {},
   "outputs": [],
   "source": [
    "with open(\"../data/en2mm.json\") as f:\n",
    "    en2mm_dict = json.load(f)"
   ]
  },
  {
   "cell_type": "code",
   "execution_count": 3,
   "id": "381df61e",
   "metadata": {},
   "outputs": [],
   "source": [
    "with open(\"../data/mm2en.json\") as f:\n",
    "    mm2en_dict = json.load(f)"
   ]
  },
  {
   "cell_type": "code",
   "execution_count": 4,
   "id": "4653ba55",
   "metadata": {},
   "outputs": [
    {
     "data": {
      "text/plain": [
       "dict_keys(['က', 'ကြိုး', 'ကြာ', 'ချောင်', 'လွမ်း', 'နန်း', 'ချုံ', 'နန်', 'ဆိန်း', 'ချုံး', 'နင်', 'ဇီ', 'ဆုန်', 'မိုး', 'လင်း', 'ဆွန်း', 'တာ', 'ရမ်', 'ဗေး', 'ဇင်', 'တိုး', 'ထိ', 'န', 'ဦး', 'ဒေါင်', 'ဒိမ့်', 'အောင်', 'နောင်', 'ပေါ်', 'ထူး', 'ဖိုက်', 'ယတ်', 'အူလ္လာ', 'ဗျာ', 'ကျော့', 'မှူး', 'ကြည်', 'ဖြူ', 'နွေး', 'နွယ်', 'ပိုင်', 'ဖူး', 'ဝေ', 'ဖြိုး', 'ဘွဲ့', 'စက်', 'ထက်', 'မင်း', 'မြင့်', 'မိုရ်', 'လ', 'အိမ်', 'သဲ', 'မောင်', 'သက်', 'ယား', 'သူ', 'လေး', 'ရီ', 'စီ', 'အီ', 'ယာန်', 'လှောန်', 'ကြွ', 'ရက်', 'စွန်း', 'ရိုင်', 'ဂွမ်', 'ဂျာ', 'ရိန်', 'ဆိုင်း', 'နူး', 'မွန်း', 'မိုင်', 'လု', 'ရှီး', 'ပေါ့', 'လာ', 'ကာ', 'မာ', 'လဲ', 'ဒစ်', 'ငြိမ်း', 'အေး', 'လို', 'ဖော', 'ယာ', 'လျာ', 'ကျော်', 'ချစ်', 'ချမ်း', 'စိုး', 'ဆွေ', 'ညွန့်', 'လှိုင်', 'နု', 'ထွဋ်', 'ဆက်', 'မျိုး', 'ပြည့်', 'လွင်', 'မြတ်', 'နိုး', 'ရွှေ', 'စင်', 'ရွှန်း', 'လဲ့', 'ဝင်း', 'သင်း', 'သန်း', 'သွန်း', 'အိ', 'ချော', 'လှ', 'သီ', 'ကီ', 'ကို', 'ဂီ', 'ဘတ်', 'ဂျာလ်', 'စ', 'ဇ', 'လင်', 'နီ', 'နေ', 'လိ', 'ပ', 'ရေး', 'လယ်', 'ဗေ', 'ယ', 'ထွန်း', 'ရ', 'ယို', 'ရဲ့', 'ရံ', 'ရို', 'လိုင်း', 'ငွေ', 'လီ', 'နား', 'ကိ', 'ချန်း', 'ဆွမ့်', 'ကိုး', 'ကူ', 'မာရ်', 'စန်း', 'တန်း', 'နိုင်း', 'မန်း', 'နှင်း', 'ထန်', 'ရိ', 'မား', 'ရမ်း', 'ရှိုး', 'ကီး', 'ထန်း', 'ဖေ', 'ဘူ', 'လိန်', 'ဘွမ်', 'မ', 'ရှိန်း', 'ဟန်', 'လိန်း', 'ဆွယ်', 'ဟုန်း', 'ကု', 'မေ', 'သာ', 'ဋေ', 'ဋာ', 'ကောင်း', 'ကြွယ်', 'စံ', 'ဌေး', 'ထိုက်', 'ဟိန်း', 'ဘု', 'မီး', 'မု', 'ဒြာ', 'မှုံ', 'လား', 'သု', 'တ', 'နာ', 'ကူး', 'ခင်', 'ရာ', 'ဆပ်', 'ရှင်', 'ချန်', 'ဆန်း', 'ဆန့်', 'ခမ်း', 'မင်', 'စိန်', 'ဝင့်', 'ဝါ', 'သဒ္ဒါ', 'သွယ်', 'မူ', 'ငိုက်', 'မို့', 'ရယ်', 'အိန္ဒြေ', 'ကေ', 'ခိုင်', 'ဇာ', 'ဝိုင်', 'ကေး', 'ရှင်း', 'ကြူ', 'ခန့်', 'ငယ်', 'သိန်း', 'ဆင့်', 'ဇော်', 'ထွေး', 'ဘို', 'မော်', 'မွန်', 'ရဲ', 'ရည်', 'ဝတ်', 'ချို', 'ခြူး', 'ခြည်', 'တောင်', 'ရွယ်', 'ဂျီ', 'စု', 'စန္ဒာ', 'ပန်', 'သွင်', 'နိုင်', 'ဆု', 'ဇူး', 'သန့်', 'ညိမ်း', 'ပွင့်', 'ဘူး', 'မီ', 'ယု', 'ယွန်း', 'ရှိန်', 'လတ်', 'လှိုင်း', 'လက်', 'သော်', 'ဝိုင်း', 'သိမ့်', 'တီ', 'တူး', 'တင်', 'ဒီ', 'ဂ', 'ဖုန်း', 'နို', 'နန္ဒာ', 'ပီ', 'ရော', 'လဲန်း', 'ရု', 'သစ္စာ', 'မြူး', 'မံ', 'လာဒ်', 'ဝ', 'သုန်', 'သ', 'ဠာ', 'ကြိုင်', 'ဗိုလ်', 'ဆာ', 'ဥမ္မာ', 'သင်္ကြန်', 'သင်', 'သဉ္ဇာ', 'နွေ', 'အို', 'ကဲ', 'လဲစ်', 'ကော', 'ကြင်', 'ကော့', 'ချီ', 'ရန်', 'ကော်', 'ပြာ', 'ဘီ', 'သား', 'ဟာ', 'ဒါ', 'ဖန်', 'ကံ', 'ကြီး', 'ချား', 'ချွန်', 'ဆိုက်', 'ဆယ်', 'ဆွဲ', 'လွှမ်း', 'ညွှန့်', 'တိုင်', 'တည်', 'မြ', 'ယဉ်', 'ရှား', 'ရှီ', 'သောင်း', 'သစ်', 'ကံ့', 'ဖွေး', 'မြိုင်', 'ဇေ', 'ဝဏ္ဏ', 'စုံ', 'ရှိုင်း', 'လျှံ', 'ခွေး', 'ဂျက်ခ်', 'စော', 'စိုင်း', 'စည်', 'ဉာဏ်', 'ညီ', 'တင့်', 'ထင်', 'ဒွေး', 'မို', 'သည်း', 'ကွယ်', 'လုံး', 'ကက်', 'နယ်', 'ရင်း', 'ဓူ', 'ဝံ', 'ကြယ်', 'ဟောက်', 'ဟင်လ်', 'ကောက်', 'ထု', 'နော်', 'ကိုက်', 'ကြုတ်', 'ကင်', 'ဆား', 'ခေါန်', 'ကင်း', 'ပါ', 'ဘွိုင်', 'လျင်', 'မျှော်', 'သော့', 'ကြောင်', 'အိန္ဒြာ', 'ကောင်', 'ဇော', 'ဇံ', 'ဈာန်', 'ကျိုင်း', 'ခံ့', 'ညား', 'ခက်', 'ခေါင်', 'ဆောင်', 'ယျာ', 'ညို', 'ယံ', 'ဿန်', 'သိဏ်း', 'အာ', 'သွေး', 'ဂျူ', 'လိုင်', 'ဂျွန်', 'ဆည်း', 'ခ', 'သျှန်', 'ပယ်', 'စစ်', 'ဟိဏ်း', 'စွမ်း', 'စွယ်', 'သျှင်', 'မာန်', 'ရင့်', 'လူ', 'သိမ်း', 'နည်', 'ယျ', 'ဘုန်း', 'ဇယ်', 'ဇွဲ', 'တေ', 'ကျား', 'မြက်', 'ညိန်း', 'အုပ်', 'ထိန်', 'ထွေ', 'ညု', 'နော', 'ပို', 'မြို့', 'နန္ဒ', 'ဟ', 'ဥက္ကာ', 'မွှေး', 'ကျွန်', 'လာဘ်', 'လျံ', 'လွန်း', 'ဘွား', 'ထယ်', 'ဝဏ်', 'ရင်', 'ကိုင်', 'တန်', 'ကိမ်း', 'ထွယ်', 'နှောင်း', 'ရော်', 'ရှန်း', 'မုန်', 'ကိုင်း', 'ညွတ်', 'ကစ်', 'ကစ္စ', 'ဗ', 'ဒူး', 'ကိစ္စ', 'ကဉ္စ', 'ဟို', 'ကတ္တီ', 'ကန်', 'ကန့်', 'ကိန္န', 'ကိန်း', 'မှိုင်', 'ကုန်', 'ကွေ', 'ကျင်', 'ဇက်', 'လျှန်', 'ဖိန်', 'မိ', 'ကောန်', 'ကပ်', 'ကျန်', 'ကျင့်', 'ချွတ်', 'ဆန်', 'ဇွန်', 'ခွါလ်', 'လျန်း', 'မန်', 'ဗျာလ်', 'ဧ', 'ရှမ်း', 'ကမ်', 'ကျောင်', 'ကမ္ဘာ', 'ကမ္မ', 'ဒေ', 'ဝီ', 'ရှန်', 'ပြောင်', 'ကမ်း', 'ကွပ်', 'ခုပ်', 'တွန်း', 'လှန်', 'စန်', 'လမ့်', 'တုန်း', 'လဲမ့်', 'ငိုင်', 'ကိမ်', 'ဇမ်း', 'ကျိန်', 'ကယ်', 'ကယ်လ်', 'ဗင်', 'ကာလ်', 'ကီလ်', 'ကောလ်', 'ကိုလ်', 'ကျ', 'မူး', 'လော', 'ကျို', 'ဟဲ', 'ချင်း', 'ယုံ', 'ကျီ', 'အင်', 'ကြင်း', 'ကျူ', 'ကျူး', 'ခန်း', 'ကျေ', 'ကျဲ', 'ထောင်း', 'ဘီလ်', 'လွီ', 'ဟူး', 'ကျော', 'ခါး', 'ရစ်', 'ဖန်း', 'ခူ', 'ဒင်', 'အူ', 'ထွဏ်း', 'ငု', 'စန္ဒ', 'စန္ဒီ', 'ဇူ', 'ဆီ', 'မုံ', 'လွှာ', 'ရူ', 'သို့', 'ခွာ', 'သိ', 'ထား', 'သန္တာ', 'ဟေ', 'ဠု', 'မြေ့', 'သိုက်', 'ကြား', 'ဂေါင်', 'ဂန်', 'ခေါ်', 'လျန်', 'စို', 'စွာ', 'ဆောင်း', 'ဆိုင်', 'ခေတ်', 'ဖွား', 'ဝမ်း', 'ဇန်', 'ဇမ္ဗူ', 'ထိုး', 'ဒွန်း', 'ဓ', 'သန်', 'တိန့်', 'ယိန်း', 'နှစ်', 'မော', 'လဒ်', 'မိုင်း', 'မြင့့်', 'မှိုင်း', 'ယန်', 'ရိန်း', 'ရိပ်', 'ရွှင်', 'လက်ျာ', 'ထွတ်', 'လန်', 'ကြော', 'ပဲန်း', 'လျှမ်း', 'ဝမ်', 'သိင်္ခ', 'ချေ', 'ဟီး', 'မူလ္လာ', 'ဟိုး', 'ဒုလ်', 'မုစ်', 'တော်', 'အီး', 'နှဲမ်', 'ရဲမ်', 'အုန်း', 'အယ်လ်', 'ကျော့်', 'ကျိုး', 'ကျက်', 'ခွန်း', 'ကျောက်', 'ခဲ', 'စိမ်း', 'ဖား', 'ဟွ', 'စိမ်', 'ခွေ', 'တီး', 'ထိုင်', 'ဒိတ်', 'ပု', 'ပူး', 'ပြုံး', 'ဖိုး', 'ဝုန်', 'မွေ', 'ချင်', 'ရိုး', 'လွန်', 'ရှိတ်', 'လူး', 'လွိုင်း', 'နွမ်း', 'ဟုတ်', 'ဟုန်', 'ဥ', 'ခန်', 'ဆောမ်း', 'မွမ်း', 'တွယ်', 'မှောင်', 'လော့', 'နဲမ်း', 'ဇမ်', 'ညောင်', 'ကျင်း', 'ခေါလ်', 'ဂဲလ်', 'ဘွဲ', 'ပေါင်', 'ဇို', 'ကျိန်း', 'ဝန်း', 'ကျောင်း', 'ချောက်', 'ဒ', 'ရား', 'နွမ်', 'ဂိမ်း', 'ဖု', 'ဟူ', 'ကျန်း', 'လျို', 'လန့်', 'ခမ်', 'ဒင့်', 'ထာရ်', 'ရီး', 'ထဲ', 'ရိမ်', 'တိမ်း', 'လဲင်', 'ဆုမ်း', 'ခို', 'ခေါင်း', 'ခတ်', 'တွေ', 'ဒွန့်', 'ခေါမ်', 'ဒိမ်', 'ခေါမ်း', 'ဒိမ်း', 'ဂင့်', 'ဂိမ်', 'ပွါ', 'လဲလ်', 'ဆွေး', 'ဆွင်', 'တွဲ', 'ဆွင်း', 'ဆွမ်', 'ဒွပ်', 'ဆွမ်း', 'ဇင်း', 'ဇမ့်', 'ဇွန်း', 'ဗိုင်း', 'မွင်း', 'ဒွတ်', 'အိမ်လ်', 'ပုမ်း', 'ဗန်း', 'ရှဲမ်း', 'ဘွိုင်း', 'မွမ်', 'ပါ့', 'ရှာမ်', 'လမ်း', 'ဟြေ', 'မြှောင်', 'လှောင်', 'ရှိမ်း', 'ဆင်', 'နှဲမ်း', 'ဂုန်', 'လျင့်', 'ဟေး', 'ထဲမ်း', 'ဟော', 'ဟောမ်း', 'အင်း', 'အစ်', 'ကျိမ်', 'ကျုံ', 'နွန်', 'ကျုံး', 'မှုန်း', 'အဲန်း', 'ပါးရ်', 'ဘေး', 'ထောင်', 'ပြန်း', 'ခေါ်လ်', 'ဇိန်း', 'ဟမ်', 'လှဲ', 'ဝင်', 'ပါရ်', 'လာလ်', 'ကျဲရ်', 'ဇီး', 'လှေ', 'ယန်း', 'ကြ', 'ည', 'မာ့', 'ထာ', 'လှေး', 'မဲန်း', 'ပွား', 'ဘ', 'ချိတ်', 'နွဲ့', 'ကြူး', 'ကွမ်း', 'ဆင်း', 'မြော်', 'ကြေး', 'ကြော့', 'ကြံ', 'ချောင်း', 'တိုင်း', 'နှိုင်း', 'ကြံ့', 'ကြို', 'ကြိုက်', 'စမ်း', 'ဗို', 'ကြောင်း', 'ကြိုင်း', 'ပြီး', 'စေ', 'ပြေ', 'စိမ့်', 'ပေ', 'ပို့', 'ပျို', 'မွေ့', 'လုံ', 'သံ', 'ဇဉ်', 'သဒ္ဓါ', 'သမ္မာ', 'ဟံ', 'အုံး', 'ကြည့်', 'ကြုံ', 'ခေါက်', 'ဘုံ', 'ထည်', 'စဉ်', 'ကွာ', 'ချယ်', 'ခြာ', 'ကွီ', 'ကွီး', 'ကွေ့', 'ဘောမ်', 'ကွေး', 'ကွဲ', 'ကွက်', 'ရိုင်း', 'ကွိဇ်', 'ကွတ်', 'ကွန်', 'ထပ်', 'ကွန့်', 'ကွန်း', 'ဆော်', 'ကွမ်', 'မြစ်', 'ဘာ', 'အန်', 'ကျွံ', 'ကျွန်း', 'ထိပ်', 'နဲမ်', 'ထီး', 'သေး', 'ကျွမ်း', 'ကျွယ်', 'ကြွေ', 'ပန်း', 'ရုပ်', 'ကြွက်', 'ကြွမ်', 'ခွမ်', 'ငန်', 'င', 'ဏ', 'ဓမ္မာ', 'ရုံ', 'မုန်း', 'ရေ', 'ရစ္စ', 'တို', 'ဖာ', 'နှီး', 'တင်း', 'တယ်လ်', 'ဒေါ့', 'မတ်', 'ရုဏ်း', 'ဆူ', 'ချွန်း', 'မွေး', 'ဗဲလ်', 'ရွာ', 'ခါ', 'ဂျီး', 'လစ်', 'ဓါန်', 'အိန်', 'ခု', 'ဆဲ', 'ခူး', 'နက်', 'ဖန့်', 'ငါး', 'ခေ', 'ခေး', 'ရွက်', 'လောဒ်', 'ခေါ', 'ကွ', 'ဂေ', 'အွမ်', 'ဂျေ', 'ပမ်', 'နမ်', 'နာမ်', 'ရုံး', 'လုတ်', 'လွေ', 'ဆားရ်', 'ထန့်', 'ဒု', 'ဘော်', 'တား', 'ယူး', 'ခံ', 'ဖူ', 'ကျစ်', 'ငုံ', 'ဆူး', 'သဉ္စာ', 'အဉ္စ', 'ခဂ္ဂါ', 'ခမ့်', 'မြေ', 'ဂန့်', 'ဂေါ်', 'ဂျူး', 'ငြိမ့်', 'ပါယ်', 'ပြည်', 'စည်း', 'ဒိုင်', 'လပ်', 'ဝါး', 'ညက်', 'ညို့', 'ညွှန်း', 'တော', 'တုတ်', 'တုပ်', 'နံ့', 'မှု', 'နှင်မ်', 'တိ', 'ဖြာ', 'ပိုး', 'ဆံ', 'မှာ', 'ပဲန်', 'သို', 'ပြီ', 'ပြောင်း', 'ဇုန်', 'ပြုံ', 'မယ်', 'ဖြူး', 'မဉ္ဇူ', 'ချိုင်း', 'ဂျမ်း', 'မြဲ', 'မြန်', 'မှီ', 'မှတ်', 'မျှား', 'တု', 'ရှု', 'ရောင်', 'လန်း', 'လိမ္မာ', 'လျှား', 'သောင်', 'ဝယ်', 'ဖီ', 'သိင်္ဂီ', 'သန္ဒာ', 'သိပ္ပံ', 'သွဲ့', 'အေ', 'အိမ့်', 'အုံ', 'ခင်း', 'စဲ', 'စင်း', 'ဇေါင်း', 'ဇောင်း', 'ဒါးလ်', 'ပွဲ', 'လေ', 'ဒေါ', 'ကျေး', 'ခွား', 'ခတ္တာ', 'ခန္တီ', 'ခွန်', 'ငြား', 'ဏီ', 'ညာ', 'ဖုဏ်း', 'ယော', 'ဆို', 'အိဏ်', 'အိန္တာ', 'ဒါး', 'ဆမ်', 'ဒင်း', 'ဘန့်', 'ရှောင်', 'လိတ်', 'လွဲ', 'လွမ်', 'လွယ်', 'ငွေ့', 'ချော်', 'ထွာ', 'ဖောင်', 'ဖောင်း', 'မန့်', 'လောင်', 'ဟွမ်', 'ခုံ', 'ခယ်', 'ခါရ်', 'ဆွန်', 'ရှမ်', 'ချ', 'ချာ', 'ထီ', 'ချူး', 'မှုန်', 'အ', 'ပုံ', 'ဂျန်', 'ချိုး', 'ဖို့', 'ခြင်း', 'စူး', 'ဆုံး', 'ညှာ', 'ပြိုင်', 'တုန်', 'တုံ', 'တုံး', 'ဟမ်း', 'ဒေါင်း', 'နတ်', 'ဆိုး', 'ပေါက်', 'ပုံ့', 'မိုက်', 'ယောင်', 'ယိမ်း', 'ပိုက်', 'သော', 'အား', 'ခြိမ့်', 'ထော', 'ဘေ', 'မီးရ်', 'အိုက်', 'ခြူ', 'ဿဏ်', 'နန္ဒီ', 'မျက်', 'ခြယ်', 'ရေ့စ်', 'ဂူ', 'ဂူး', 'ဂိုးလ်', 'ဂဂ္ဂါ', 'ဒမ်း', 'ဂဂ္ဂါး', 'ဂဂ်', 'လာမ်', 'ဂန္တ', 'ဂန္ဓ', 'ဂန္ဓာ', 'ဂမ်', 'နျူး', 'ဂျို', 'ဂျိုး', 'စက်ဖ်', 'ဂျက်ဒ်', 'ဂျား', 'ဂွိ', 'ငြိမ်', 'ကား', 'ဂျက်', 'တီးလ်', 'ရောင်းန်', 'နေး', 'ဝိုက်', 'စာ', 'မိုင်းလ်', 'မိန်း', 'မဲလ်', 'စူ', 'ရှ', 'ဇိတ်', 'ဒေး', 'ဗစ်', 'ပဉ္စ', 'ပြန်', 'ရယ်လ်', 'အားရ်', 'စော်', 'ကိုယ်', 'စုက္က', 'တေး', 'စင်္ကြာ', 'တွမ်', 'ဖ', 'လျှမ်', 'နွံ', 'နောင့်', 'မောက်', 'လောင်ဝ်', 'စဉ့်', 'ဘင်', 'ဝိ', 'ဿ', 'စွဲ့', 'ဆ', 'တြာ', 'ခွမ်း', 'ဒွက်', 'ဆဲလ်', 'ဗား', 'ဇိ', 'သိမ်', 'ဂို', 'ပွန်', 'ဖီး', 'နင်္ဂ', 'ပင်', 'ဖျား', 'ဗုတ်', 'တက္ခ', 'ညွန်', 'တြီ', 'တွာ', 'ထ', 'ဗန်', 'မှန်', 'တောက်', 'ချယ်လ်', 'မဲန်', 'ဒေ့ဗ်', 'ရိုင်းန်', 'ဒေါ်', 'ဒို့ဗ်', 'ဒိုး', 'ဒတ်', 'ဒန်', 'ဒန့်', 'ဒိန်း', 'ဓီ', 'ယုန်', 'တေ့', 'သိင်္ဃ', 'ဓိ', 'ဂေး', 'စေး', 'ဟက်ခ်', 'နန့်', 'တစ်', 'ဟွမ်း', 'ဟိုင်', 'သျှန္တီ', 'အဉ္ဇ', 'အိပ်', 'မက်', 'ယှဉ်', 'ပိ', 'စိ', 'ပဲ', 'ဂျိမ်းစ်', 'ဂုံ', 'သျှမ်း', 'ပစ်', 'မြဉ္ဇူ', 'ပပ်ဖ်', 'ဒိုင်း', 'ဘိုင်', 'တိန်း', 'လော်', 'ဝယ်လ်', 'ဖိ', 'နစ်', 'ဖယ်', 'သင့်', 'ဖွာ', 'ရွတ်', 'ချုပ်', 'ဗွီ', 'ရန်း', 'လမ်', 'ယော်', 'ဘုတ်', 'ဏိ', 'ဒယ်လ်', 'ဓု', 'ဟင်', 'ရေ့ဒ်ဗ်', 'ဟို့စ်', 'ဂိတ်', 'ဆွိ', 'ပွ', 'ဗာ', 'ဂျဲ', 'ညှင်း', 'သောက်', 'မုခ်', 'မောင်း', 'တံ့', 'သတ်', 'မစ်', 'မဉ္စူ', 'မိန်', 'နှာ', 'ဝန်', 'မြူ', 'ဘုဏ်း', 'ရှိုင်းန်း', 'စန္ဒြာ', 'ယူ', 'ယဉ်း', 'ကန်း', 'သေ့', 'ကုမ္မာ', 'ရာဇ်', 'ရော့ခ်', 'ရို့စ်', 'ကျိမ်း', 'ချက်စ်', 'ချက်ထ်', 'ရုတ်စ်', 'မြင်', 'ရွန်း', 'ရွမ်', 'ရှေး', 'ဘို့', 'နောက်', 'ရှယ်', 'ကုံး', 'တိမ်', 'ထော်', 'ရွိုင်', 'ဗီ', 'ရင်န်', 'လက္ခ', 'လာန်', 'ထာသ်', 'လာန်း', 'နိုက်', 'ကင်းမ်', 'ဝေး', 'တိုက်', 'ဒူ', 'ဗျော', 'ဒုံ', 'ပံ', 'မင်္ဂ', 'ခိ', 'ခြွေ', 'ဆန္ဒ', 'ဇုံ', 'ဒိန်', 'တံ', 'တက်', 'သတ္တိ', 'လျှို', 'မြေး', 'လှဲန်', 'ဆုန်း', 'သော့ခ်', 'တီလ်', 'ပေါ', 'ဃာ', 'သက္က', 'ချိန်', 'ယယ်', 'ရှည်', 'ရော့ဒ်', 'သင်္ကေ', 'သင်္ခ', 'ဆွတ်', 'ပျံ့', 'ပြန့်', 'သိင်္ဂါ', 'ဒေါင့်', 'ရှိ', 'သိုင်း', 'သဉ္ဇ', 'သဉ္ဇူ', 'သိဉ္စည်း', 'သိဒ္ဓိ', 'သုဒ္ဓေါ', 'သိဓ္ဓတ်', 'ရွှေ့', 'လွှင်', 'သမ္ဘူ', 'ညင်', 'သုံး', 'ဩ', 'လျှင်', 'သျှင်း', 'သျှား', 'သျှံ', 'သျှန်း', 'ဟုမ်', 'သျှမ်', 'သျွှန်း', 'ခက်ခ်', 'ဟယ်', 'ကျွဲ', 'ငဲ', 'စွမ်', 'ဆီး', 'နာ့', 'နန်းဒ်', 'မဲ့', 'ပါး', 'ဗျက်', 'ဘိ', 'စီး', 'မွိုင်', 'မွှန်း', 'ယိုင်', 'ရုဏ်', 'ရှာ', 'ဟတ်', 'ဇန္ဒား', 'လင်္ကာ', 'ဗုံ', 'ဟဲဒ်', 'ဖုန်', 'ဝိန်', 'ဝါလ်', 'သင်္ချေ', 'ဗြ', 'ရုန်း', 'ဗြာ', 'စေ့', 'ဂျ', 'သီး', 'ရွမ်း', 'ကျွင်း', 'ခီ', 'ချဲ့', 'ဆေး', 'ဖြင့်', 'ဘဲလ်', 'ရှုံး', 'ရှဲလ်', 'ဝူ', 'အားလ်', 'စွပ်', 'မျာ', 'ဣ', 'ချိ', 'ခွါ', 'အု', 'ဿာ', 'ပယ်လ်', 'ဘဲန်', 'ဘယ်', 'ဘယ်လ်', 'ရင့်စ်', 'မို့စ်', 'ယိင်း', 'ဟိမ်း', 'ဘက်', 'ရှဲ', 'ဒေါသ်', 'စောလ်', 'ယက်', 'ဇာရ်', 'လွမ့်', 'ရတ်', 'ဏာ', 'အာရ်', 'ညိမ့်', 'ဂျမ်', 'ဇင့်', 'ဌေ', 'တန့်', 'နွန်း', 'ဂိုး', 'ပီး', 'ပြား', 'ဖော်', 'ဖတ်', 'ချူ', 'စွန်', 'မြီ', 'ယိမ့်', 'သင်္ချာ', 'သန္ဒြာ', 'သလ္လာ', 'ဟွေ', 'အဲ', 'လက်စ်', 'အဲ့', 'အော', 'ဂတ်', 'ချားလ်', 'ဒိ', 'အော်', 'ဂျွန်း', 'နီးလ်', 'အံ', 'တွမ်း', 'အံ့', 'တွေး', 'ဖွယ်', 'ဘွယ်', 'ယန့်', 'ဟတ်ဒ်', 'အိုး', 'အက္ခ', 'အက်', 'ဥက္က', 'ဌ', 'လှိုဏ်း', 'အက်စ်', 'ဂါး', 'အဂ္ဂ', 'အဂ္ဂါ', 'ရပ်', 'အွန်', 'သွင့်', 'အိင်္ခ', 'အဲင်း', 'မောရ်', 'အဲင်န်', 'ချိန်း', 'သွား', 'ဂျယ်', 'စက္ကန့်', 'ယျန်', 'ထိန်း', 'နဲ့', 'ပေး', 'ခဏ်', 'ဖုံး', 'သျှ', 'ဖွင့်', 'ဘော', 'ဆမ်း', 'ဘန်း', 'ဂျတ်', 'လိမ်း', 'လျှပ်', 'ဥဂ္ဂါ', 'အောင်း', 'အိုင်', 'နှော', 'အိုင်း', 'ပွန်း', 'စိုက်', 'အစ္စ', 'အိစ်', 'အိဇ္ဇာ', 'အဉ္ဇူ', 'ဧည့်', 'အဏ္ဏ', 'အိဏ်း', 'ဥတ္တ', 'အုတ်', 'အန့်', 'ဂျယ်လ်', 'အိန္တ', 'လို့', 'ဣန္တာ', 'အိန္ထ', 'ဣန္ဒ', 'အိန္ဒာ', 'ဣန္ဒာ', 'အိန္ဒု', 'အိန္ဒြ', 'ဣန္ဒြေ', 'အိန္ဓု', 'အိန္နီ', 'အိန္မာ', 'ဟင်း', 'ဂျော်', 'အဲန်', 'ဗွန်', 'အောန်', 'အန်ဒ်', 'အပ်', 'အပ္ပ', 'အာဖ်', 'အမ်', 'စောမ်', 'နပ်', 'အမ္မ', 'အမ်း', 'တောင်း', 'အဲမ်', 'အိုမ်', 'ကတ်', 'အိမ္ဗာ', 'လည်း', 'လျော့', 'အိမ်း', 'အယ်', 'ဒို', 'နဲ', 'ဖေါ', 'ဘောက်', 'ဘင်း', 'အူရ်', 'အဲလ်', 'အောလ်', 'လောင်း', 'ကျီး', 'လှီး', 'ဇ္ဈိ', 'ရွေ့', 'ဿီ', 'ဿဲ', 'ဿန်း'])"
      ]
     },
     "execution_count": 4,
     "metadata": {},
     "output_type": "execute_result"
    }
   ],
   "source": [
    "mm2en_dict.keys()"
   ]
  },
  {
   "cell_type": "code",
   "execution_count": 5,
   "id": "3b1c6400",
   "metadata": {},
   "outputs": [
    {
     "data": {
      "text/plain": [
       "dict_keys(['ka', 'kyoe', 'kyar', 'chaung', 'lwan', 'nan', 'nang', 'nann', 'chon', 'sain', 'sein', 'chone', 'nin', 'ze', 'zi', 'sone', 'moe', 'lin', 'linn', 'lynn', 'soon', 'tar', 'ran', 'yan', 'ter', 'bay', 'zin', 'toe', 'hti', 'na', 'oo', 'daung', 'daint', 'aung', 'deint', 'naung', 'paw', 'htoo', 'htue', 'phaik', 'yat', 'aular', 'eular', 'byar', 'kyawt', 'hmoo', 'hmooe', 'hmue', 'mhoo', 'mhooe', 'mhue', 'kyi', 'phyu', 'nway', 'nwal', 'nwe', 'paing', 'phoo', 'phu', 'phue', 'phuu', 'wai', 'phyo', 'phyoe', 'bwe', 'bwet', 'sat', 'satt', 'set', 'sett', 'htat', 'htet', 'min', 'minn', 'myint', 'mo', 'la', 'aein', 'eain', 'thae', 'maung', 'mg', 'thal', 'thel', 'thet', 'yah', 'thu', 'lay', 'yar', 'ya', 're', 'si', 'ei', 'hlawn', 'kywa', 'ri', 'yee', 'yie', 'yi', 'rat', 'swon', 'ret', 'yet', 'roy', 'gwan', 'jar', 'yoy', 'rain', 'hseng', 'nue', 'nuu', 'seng', 'rein', 'yain', 'yein', 'moon', 'mai', 'mine', 'my', 'lu', 'shee', 'pawt', 'pop', 'shie', 'ca', 'lar', 'kar', 'mar', 'lae', 'dit', 'nyein', 'aye', 'lal', 'lo', 'phaw', 'a', 'layar', 'lyar', 'kyaw', 'chit', 'chan', 'chann', 'soe', 'swe', 'nyunt', 'hlaine', 'hlaing', 'hline', 'nu', 'htut', 'hset', 'myo', 'pyae', 'pyah', 'pyai', 'lwin', 'myat', 'noe', 'shwe', 'sin', 'shon', 'lai', 'lei', 'shoon', 'shune', 'shun', 'shunn', 'win', 'winn', 'wynn', 'thin', 'thinn', 'than', 'thon', 'thoon', 'thun', 'thunn', 'chaw', 'hla', 'thi', 'ke', 'ki', 'kie', 'ko', 'gi', 'batt', 'bert', 'jarl', 'sa', 'cin', 'za', 'ni', 'nay', 'li', 'pa', 'yae', 'yay', 'htoon', 'htun', 'tun', 'ra', 'yo', 'yai', 'ro', 'line', 'ngway', 'ngwe', 'nar', 'swant', 'koe', 'ku', 'san', 'sann', 'sun', 'sunn', 'tan', 'tann', 'nine', 'man', 'mann', 'hnin', 'htan', 'shoe', 'shooe', 'show', 'showe', 'kee', 'htann', 'pe', 'phay', 'phe', 'bu', 'lain', 'lein', 'bwan', 'ma', 'shane', 'shein', 'han', 'lainn', 'lane', 'leinn', 'swal', 'swel', 'hone', 'may', 'thar', 'day', 'dar', 'kaung', 'kywal', 'kywe', 'kywel', 'htay', 'htaik', 'htike', 'hain', 'haine', 'hein', 'mee', 'mu', 'dra', 'hmone', 'mhone', 'da', 'kue', 'kuu', 'khin', 'sap', 'sup', 'shin', 'hsan', 'sant', 'sunt', 'kham', 'ry', 'wint', 'wah', 'war', 'thadar', 'thwal', 'thwe', 'ngaik', 'ngeik', 'ngike', 'moet', 'moh', 'moht', 'ral', 'yal', 'aeindray', 'eaindray', 'kay', 'khaing', 'khine', 'zar', 'wine', 'wyne', 'shinn', 'kyu', 'khant', 'ngal', 'nge', 'thein', 'sint', 'zaw', 'htway', 'htwe', 'bo', 'maw', 'mon', 'ye', 'wit', 'wuit', 'wutt', 'wut', 'wyit', 'wyut', 'cho', 'chue', 'chu', 'chuu', 'che', 'chi', 'chyi', 'taung', 'k', 'roi', 'ywal', 'g', 'ji', 'su', 'sanda', 'sandar', 'pan', 'thwin', 'naing', 'hsu', 'zue', 'zuu', 'thant', 'pwint', 'bue', 'buu', 'me', 'mie', 'mi', 'yu', 'yoon', 'yun', 'latt', 'lak', 'lett', 'thaw', 'waing', 'theint', 'ta', 'te', 'ti', 'too', 'tue', 'tuu', 'tin', 'de', 'di', 'ga', 'phone', 'no', 'nandar', 'pi', 'p', 'raw', 'lan', 'yaw', 'ru', 'thissar', 'thitsar', 'myue', 'ddi', 'ddy', 'dy', 'lard', 'wa', 'thone', 'tha', 'kyaing', 'kyine', 'sar', 'ohnmar', 'thingyan', 'thinzar', 'thwel', 'o', 'kae', 'lis', 'kaw', 'kyin', 'kawt', 'pyar', 'be', 'bie', 'bi', 'har', 'phan', 'kan', 'gyi', 'char', 'chun', 'saik', 'sike', 'hsal', 'sal', 'hlwan', 'lhwan', 'hnyunt', 'tai', 'ty', 'tal', 'mya', 'yin', 'shar', 'she', 'shi', 'thaung', 'thit', 'gant', 'gaw', 'kant', 'phway', 'phwe', 'myain', 'myaine', 'myaing', 'myine', 'zay', 'wanna', 'wonna', 'wunna', 'shine', 'hlyan', 'shan', 'khway', 'jack', 'saw', 'sai', 'saing', 'nyan', 'nyi', 'tint', 'htin', 'dway', 'dwe', 'kwal', 'lone', 'kat', 'nal', 'rine', 'du', 'wan', 'kyal', 'won', 'wun', 'hauk', 'hin', 'kauk', 'htu', 'naw', 'kaik', 'kyoke', 'kite', 'kin', 'khawn', 'par', 'per', 'boi', 'layin', 'lyin', 'boy', 'bwine', 'hmyaw', 'mhyaw', 'thawt', 'kyaung', 'aeindra', 'eaindra', 'zawl', 'zan', 'zhan', 'zen', 'zyan', 'kyaine', 'nyar', 'khat', 'khet', 'khaung', 'saung', 'nyo', 'ah', 'ar', 'r', 'thway', 'ju', 'ly', 'john', 'jon', 'june', 'see', 'kha', 'bai', 'bal', 'bei', 'pal', 'sit', 'sitt', 'swan', 'swun', 'marn', 'yint', 'bhone', 'bone', 'zal', 'zwal', 'zwel', 'zwe', 'tay', 'myaet', 'myet', 'oak', 'oke', 'htain', 'htein', 'nyu', 'po', 'myoe', 'nanda', 'ha', 'oakkar', 'hmway', 'hmwe', 'mhway', 'mhwe', 'kywan', 'kywun', 'larb', 'layan', 'lyan', 'loon', 'lunn', 'bhwar', 'bwar', 'htal', 'kaing', 'kine', 'kain', 'kane', 'kein', 'htoi', 'htwal', 'hnaung', 'mone', 'shann', 'nywat', 'kit', 'kiss', 'va', 'due', 'duu', 'kinsa', 'ho', 'katte', 'katti', 'kainna', 'hmaine', 'hmine', 'mhaine', 'mhine', 'kone', 'kway', 'zat', 'zet', 'hlayan', 'phain', 'phein', 'kawn', 'kap', 'kyan', 'kyint', 'chwut', 'zon', 'zun', 'khwarl', 'byarl', 'kam', 'kabar', 'kamma', 'we', 'wi', 'pyaung', 'laing', 'kwap', 'khoke', 'khote', 'koke', 'twann', 'hlan', 'lant', 'tone', 'ngain', 'zam', 'kyain', 'kyein', 'kal', 'vin', 'kel', 'karl', 'kawl', 'kol', 'kya', 'mue', 'muu', 'law', 'kyo', 'hae', 'he', 'chin', 'chinn', 'yon', 'in', 'gyin', 'khan', 'kyuu', 'kyai', 'kyay', 'kye', 'kyae', 'htaung', 'lwi', 'hue', 'huu', 'khar', 'rit', 'yit', 'khu', 'din', 'auu', 'eu', 'mhuu', 'ny', 'ney', 'ngu', 'sandi', 'sandy', 'sundi', 'sundy', 'zu', 'hlwar', 'lhwar', 'thot', 'khwar', 'htar', 'thanda', 'thandar', 'hay', 'myae', 'thaik', 'theik', 'thike', 'gaung', 'gan', 'khaw', 'so', 'swar', 'suun', 'khit', 'phwar', 'paye', 'one', 'wann', 'zabu', 'htoe', 'doon', 'dunn', 'taint', 'yaine', 'hnit', 'ba', 'lad', 'raine', 'yake', 'ok', 'yeik', 'shwin', 'lakyar', 'pann', 'theinkha', 'chay', 'hee', 'mular', 'hoe', 'taw', 'hnam', 'ram', 'yem', 'nham', 'ohn', 'ohne', 'l', 'kyak', 'khoon', 'khunn', 'kyauk', 'khae', 'sainn', 'seinn', 'phar', 'hwa', 'tee', 'htai', 'htaing', 'date', 'deik', 'pu', 'pue', 'puu', 'pyone', 'phoe', 'wohn', 'wone', 'mway', 'mwe', 'yoe', 'lon', 'lun', 'sheik', 'lue', 'luu', 'loie', 'nwan', 'hote', 'ou', 'sawm', 'mwan', 'twal', 'twel', 'hmaung', 'mhaung', 'los', 'nyaung', 'khawl', 'gae', 'paung', 'zo', 'kyane', 'woon', 'wunn', 'chauk', 'gaine', 'game', 'hu', 'lyo', 'sho', 'dint', 'ree', 'htae', 'raim', 'tane', 'reim', 'sung', 'kho', 'tway', 'dwant', 'dain', 'dein', 'dame', 'dane', 'gint', 'pwar', 'swaye', 'swin', 'swine', 'swam', 'dwap', 'zinn', 'zamt', 'zoon', 'bine', 'mwin', 'dwat', 'pome', 'vann', 'part', 'sharm', 'lann', 'hmyaung', 'mhyaung', 'hlaung', 'hname', 'nhame', 'gon', 'layint', 'haye', 'lyint', 'haw', 'hawm', 'inn', 'eit', 'iit', 'kyeim', 'kyon', 'non', 'kyone', 'aan', 'parl', 'baye', 'pyan', 'zane', 'ham', 'hlae', 'larl', 'zee', 'hlay', 'yann', 'lhay', 'nya', 'mark', 'hlaye', 'maen', 'daw', 'chate', 'nwet', 'kyue', 'kwan', 'kwun', 'sinn', 'myaw', 'taing', 'tine', 'hnine', 'kyant', 'kyaik', 'pee', 'pyee', 'say', 'pyay', 'saint', 'seint', 'pay', 'poet', 'poh', 'poht', 'pyo', 'mwae', 'thanmar', 'khauk', 'khaut', 'bon', 'kwar', 'chal', 'chel', 'kwe', 'kwi', 'kwee', 'kwaye', 'bawm', 'kwak', 'yine', 'kwiz', 'kwut', 'kon', 'kun', 'htap', 'kount', 'koon', 'kunn', 'kwam', 'myit', 'bar', 'an', 'kywon', 'kyun', 'htake', 'htate', 'nane', 'htee', 'thay', 'kywae', 'kyway', 'yoke', 'yope', 'yote', 'kywat', 'khwan', 'ngan', 'nga', 'dahmma', 'yone', 'ch', 'ris', 'to', 'pher', 'hnie', 'c', 's', 'mat', 'matt', 'rist', 'mas', 'choon', 'chunn', 'bae', 'ywar', 'gyee', 'lips', 'dan', 'hsel', 'khue', 'khuu', 'nak', 'nat', 'nek', 'net', 'phant', 'ngar', 'khay', 'ywat', 'ywet', 'laud', 'kwa', 'gay', 'awan', 'j', 'jay', 'pum', 'lote', 'lwai', 'lway', 'htant', 'baw', 'yue', 'kyit', 'ngone', 'ngon', 'hsue', 'sue', 'inza', 'khagar', 'myay', 'cher', 'jue', 'juu', 'nyeint', 'now', 'pyi', 'snadar', 'dai', 'daing', 'dine', 'lap', 'lat', 'nyet', 'nyot', 'hnyun', 'toke', 'nant', 'hmu', 'mhu', 'hnim', 'phyar', 'poe', 'hmar', 'pae', 'tho', 'zone', 'pyon', 'mal', 'phyue', 'phyuu', 'myintzu', 'chine', 'gyan', 'arl', 'myal', 'mye', 'myan', 'hme', 'hmi', 'mhe', 'mhi', 'hmat', 'mhat', 'hmyar', 'tu', 'shu', 'shue', 'yaung', 'lainmar', 'hlian', 'wal', 'phi', 'phy', 'thagyan', 'thaingi', 'theingi', 'theitpan', 'thwet', 'mahn', 'ril', 'aeint', 'eaint', 'sae', 'zaung', 'pwe', 'hpone', 'khattar', 'khante', 'khanti', 'khon', 'khun', 'aeindar', 'eaindar', 'bant', 'shaung', 'leik', 'lwal', 'ngwae', 'htwar', 'phaung', 'mant', 'lao', 'laung', 'loung', 'hwan', 'khal', 'cha', 'pon', 'jan', 'choe', 'phot', 'suu', 'hnyar', 'pyaing', 'hann', 'natt', 'pauk', 'pont', 'maik', 'mike', 'paik', 'pike', 'arr', 'chaint', 'cheint', 'htaw', 'aike', 'eike', 'nanddy', 'nande', 'nandi', 'nandy', 'myek', 'race', 'e', 'gu', 'gue', 'guu', 'gold', 'gagar', 'dam', 'gagarr', 'gag', 'larm', 'ganda', 'gam', 'hpang', 'lie', 'nyew', 'jo', 'ker', 'seph', 'jac', 'jud', 'son', 'jang', 'ja', 'gwi', 'co', 'car', 'let', 'teel', 'rown', 'nail', 'white', 'mile', 'main', 'mae', 'mail', 'sha', 'zeik', 'n', 'ua', 'vid', 'pyinsa', 'sokka', 'sekkya', 'sekkyar', 'tom', 'twam', 'pha', 'nong', 'naunt', 'mauk', 'maut', 'bin', 'swet', 'soi', 'u', 'tra', 'lor', 'sil', 'ver', 'thain', 'go', 'pun', 'phee', 'ninga', 'pin', 'phya', 'boke', 'bote', 'takka', 'tekka', 'rin', 'tri', 'twar', 'hta', 'van', 'wei', 'hman', 'mhan', 'tauk', 'taut', 'tout', 'd', 'cem', 'ber', 'dave', 'dol', 'dove', 'doe', 'datt', 'el', 'dant', 'daein', 'ew', 'theinga', 'n\\xad\\xaday', 'ring', 'hak', 'hark', 'tit', 'hwun', 'hei', 'oum', 'shante', 'shanti', 'mak', 'met', 'ci', 'dauk', 'james', 'ky', 'pig', 'gy', 'pep', 'fa', 'ken', 'tain', 'f', 'je', 'wel', 'nix', 'far', 'phal', 'thint', 'theikha', 'vic', 'ruat', 'yut', 'gyoke', 'v', 'b', 'rang', 'lum', 'by', 'del', 'rave', 'hose', 'gate', 'sweet', 'pwa', 'jyal', 'hnyin', 'nhyin', 'thouk', 'moke', 'moung', 'tant', 'mic', 'key', 'myintsu', 'hna', 'myu', 'sandara', 'the', 'kuma', 'rock', 'se', 'sey', 'rose', 'chard', 'myin', 'yang', 'rom', 'shae', 'boh', 'nauk', 'shel', 'vie', 'cci', 'ren', 'yen', 'lekkha', 'eie', 'nite', 'phyeo', 'kim', 'way', 'zanw', 'cel', 'deight', 'taik', 'tide', 'tike', 'shal', 'byaw', 'don', 'minga', 'khi', 'chway', 'tak', 'tat', 'thatti', 'sell', 'thwat', 'gar', 'thetka', 'chain', 'chein', 'shay', 'yawt', 'thinkay', 'thinkha', 'swut', 'douk', 'pyant', 'theingar', 'daunt', 'thaing', 'thine', 'thinza', 'thinzu', 'thinhse', 'siddhi', 'thaddi', 'thudaw', 'theiddat', 'shwae', 'hlwin', 'thanbu', 'nyin', 'lwar', 'aw', 'aww', 'hlyin', 'her', 'kyawal', 'byat', 'byet', 'moi', 'hmoon', 'mhoon', 'yaing', 'hat', 'hatt', 'le', 'xander', 'linkar', 'phon', 'wain', 'wane', 'wein', 'thinchay', 'bya', 'thee', 'roum', 'youm', 'kyee', 'khe', 'chae', 'phyint', 'bell', 'shone', 'wou', 'wu', 'swout', 'myar', 'au', 'pril', 'bel', 'rance', 'lwant', 'zint', 'tet', 'haut', 'nun', 'nune', 'phat', 'yaint', 'yeint', 'thinchar', 'thada', 'thandra', 'thalar', 'haway', 'hawe', 'ae', 'al', 'lex', 'aae', 'gat', 'charl', 'hylar', 'lhyar', 'johne', 'johnn', 'jyoun', 'nee', 'nie', 'arn', 'twan', 'twun', 'aant', 'arnt', 'phwal', 'bwal', 'bwel', 'ent', 'heart', 'sis', 'ooe', 'ahkha', 'oaka', 'oakar', 'garr', 'agga', 'aggar', 'rap', 'soum', 'awn', 'thwint', 'aeinkha', 'eainkha', 'ain', 'chane', 'thwar', 'jal', 'satkant', 'setkya', 'setkyar', 'htainn', 'htane', 'nae', 'ang', 'phwint', 'sam', 'ban', 'jet', 'hlayap', 'hlayat', 'hlyap', 'hlyat', 'lhayap', 'lhayat', 'lhyap', 'lhyat', 'oagar', 'aoung', 'i', 'hnaw', 'nhaw', 'ron', 'aine', 'eine', 'poon', 'site', 'is', 'eizzar', 'azu', 'inzu', 'ayi', 'anna', 'aeinn', 'eainn', 'oakta', 'oketa', 'outa', 'aun', 'gel', 'aeinda', 'eainda', 'loe', 'aeindu', 'eaindu', 'aeindya', 'eaindya', 'aeinni', 'eainni', 'aeinmar', 'eainmar', 'jaw', 'awwn', 'app', 'appa', 'm', 'nap', 'ama', 'ann', 'aeh', 'om', 'aeinvar', 'eainvar', 'layawt', 'lyawt', 'do', 'bout', 'binn', 'aal', 'bak', 'bett', 'all', 'hlee', 'lhee', 'zhi', 'ywae'])"
      ]
     },
     "execution_count": 5,
     "metadata": {},
     "output_type": "execute_result"
    }
   ],
   "source": [
    "en2mm_dict.keys()"
   ]
  },
  {
   "cell_type": "markdown",
   "id": "dfeda47a",
   "metadata": {},
   "source": [
    "## Implementation of myanmar name conversion with dictionary based methods"
   ]
  },
  {
   "cell_type": "markdown",
   "id": "26acb7ea",
   "metadata": {},
   "source": [
    "Below syllable code is from sayar ye kyaw thu github's [repo](https://github.com/ye-kyaw-thu/myWord/blob/main/syl_segment.py)"
   ]
  },
  {
   "cell_type": "code",
   "execution_count": 6,
   "id": "d1ca6264",
   "metadata": {},
   "outputs": [],
   "source": [
    "import re\n",
    "   \n",
    "myConsonant = r\"က-အ\"\n",
    "enChar = r\"a-zA-Z0-9\"\n",
    "otherChar = r\"ဣဤဥဦဧဩဪဿ၌၍၏၀-၉၊။!-/:-@[-`{-~\\s\"\n",
    "ssSymbol = r'္'\n",
    "aThat = r'်'\n",
    "\n",
    "# global delimiter\n",
    "\n",
    "#Regular expression pattern for Myanmar syllable breaking\n",
    "#*** a consonant not after a subscript symbol AND a consonant is not followed by a-That character or a subscript symbol\n",
    "BreakPattern = re.compile(r\"((?<!\" + ssSymbol + r\")[\"+ myConsonant + r\"](?![\" + aThat + ssSymbol + r\"])\" + r\"|[\" + enChar + otherChar + r\"])\", re.UNICODE)\n",
    "\n",
    "\n",
    "def syllable(line, delimiter=\" \"):\n",
    "    return BreakPattern.sub(delimiter + r\"\\1\", line).strip()"
   ]
  },
  {
   "cell_type": "markdown",
   "id": "fe8da6c9",
   "metadata": {},
   "source": [
    "<p>Burmese name to English conversion</p>"
   ]
  },
  {
   "cell_type": "code",
   "execution_count": 7,
   "id": "87ce396d",
   "metadata": {},
   "outputs": [
    {
     "data": {
      "text/plain": [
       "'ဇာဏ် khe'"
      ]
     },
     "execution_count": 7,
     "metadata": {},
     "output_type": "execute_result"
    }
   ],
   "source": [
    "' '.join([mm2en_dict.get(syl, syl) for syl in syllable(\"ဇာဏ်ခီ\").split()])"
   ]
  },
  {
   "cell_type": "code",
   "execution_count": 10,
   "id": "e24215f5",
   "metadata": {},
   "outputs": [
    {
     "data": {
      "text/plain": [
       "'kyaw khine soe'"
      ]
     },
     "execution_count": 10,
     "metadata": {},
     "output_type": "execute_result"
    }
   ],
   "source": [
    "' '.join([mm2en_dict.get(syl, syl) for syl in syllable(\"ကျော်ခိုင်စိုး\").split()])"
   ]
  },
  {
   "cell_type": "code",
   "execution_count": 11,
   "id": "52b186af",
   "metadata": {},
   "outputs": [
    {
     "data": {
      "text/plain": [
       "'min khant maung maung'"
      ]
     },
     "execution_count": 11,
     "metadata": {},
     "output_type": "execute_result"
    }
   ],
   "source": [
    "' '.join([mm2en_dict.get(syl, syl) for syl in syllable(\"မင်းခန့်မောင်မောင်\").split()])"
   ]
  },
  {
   "cell_type": "code",
   "execution_count": 12,
   "id": "95980843",
   "metadata": {},
   "outputs": [
    {
     "data": {
      "text/plain": [
       "'aung bo bo kyaw'"
      ]
     },
     "execution_count": 12,
     "metadata": {},
     "output_type": "execute_result"
    }
   ],
   "source": [
    "' '.join([mm2en_dict.get(syl, syl) for syl in syllable(\"အောင်ဘိုဘိုကျော်\").split()])"
   ]
  },
  {
   "cell_type": "markdown",
   "id": "f9f0b7bd",
   "metadata": {},
   "source": [
    "<p>Burmese name in English to Burmese conversion</p>"
   ]
  },
  {
   "cell_type": "code",
   "execution_count": 9,
   "id": "24ecf529",
   "metadata": {},
   "outputs": [
    {
     "data": {
      "text/plain": [
       "'ကျော် ခိုင် စိုး'"
      ]
     },
     "execution_count": 9,
     "metadata": {},
     "output_type": "execute_result"
    }
   ],
   "source": [
    "' '.join([en2mm_dict.get(eng.lower(), eng) for eng in \"Kyaw Khine Soe\".split()])"
   ]
  },
  {
   "cell_type": "code",
   "execution_count": 13,
   "id": "ea9f23fe",
   "metadata": {},
   "outputs": [
    {
     "data": {
      "text/plain": [
       "'သက် ထွန်း အောင်'"
      ]
     },
     "execution_count": 13,
     "metadata": {},
     "output_type": "execute_result"
    }
   ],
   "source": [
    "' '.join([en2mm_dict.get(eng.lower(), eng) for eng in \"thet tun aung\".split()])"
   ]
  },
  {
   "cell_type": "code",
   "execution_count": null,
   "id": "86fbd37a",
   "metadata": {},
   "outputs": [],
   "source": []
  }
 ],
 "metadata": {
  "kernelspec": {
   "display_name": "name_env",
   "language": "python",
   "name": "name_env"
  },
  "language_info": {
   "codemirror_mode": {
    "name": "ipython",
    "version": 3
   },
   "file_extension": ".py",
   "mimetype": "text/x-python",
   "name": "python",
   "nbconvert_exporter": "python",
   "pygments_lexer": "ipython3",
   "version": "3.9.7"
  },
  "toc": {
   "base_numbering": 1,
   "nav_menu": {},
   "number_sections": true,
   "sideBar": true,
   "skip_h1_title": false,
   "title_cell": "Table of Contents",
   "title_sidebar": "Contents",
   "toc_cell": false,
   "toc_position": {},
   "toc_section_display": true,
   "toc_window_display": false
  }
 },
 "nbformat": 4,
 "nbformat_minor": 5
}
